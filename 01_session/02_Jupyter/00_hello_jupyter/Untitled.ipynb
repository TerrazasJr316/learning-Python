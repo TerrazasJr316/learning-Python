{
 "cells": [
  {
   "cell_type": "markdown",
   "id": "c090db91-66b4-49a2-a0d9-2a36cedc2daf",
   "metadata": {},
   "source": [
    "# Titulo en markdown"
   ]
  },
  {
   "cell_type": "code",
   "execution_count": 1,
   "id": "bbce3ec2-ca3e-469e-9b87-b3754813a650",
   "metadata": {},
   "outputs": [
    {
     "name": "stdout",
     "output_type": "stream",
     "text": [
      "Primera linea\n"
     ]
    }
   ],
   "source": [
    "print(\"Primera linea\")"
   ]
  },
  {
   "cell_type": "code",
   "execution_count": null,
   "id": "7cfdec79-de48-47c8-8d5c-100582d85fdf",
   "metadata": {},
   "outputs": [],
   "source": [
    "print(\"segunda \")"
   ]
  }
 ],
 "metadata": {
  "kernelspec": {
   "display_name": "Python 3 (ipykernel)",
   "language": "python",
   "name": "python3"
  },
  "language_info": {
   "codemirror_mode": {
    "name": "ipython",
    "version": 3
   },
   "file_extension": ".py",
   "mimetype": "text/x-python",
   "name": "python",
   "nbconvert_exporter": "python",
   "pygments_lexer": "ipython3",
   "version": "3.11.9"
  }
 },
 "nbformat": 4,
 "nbformat_minor": 5
}
