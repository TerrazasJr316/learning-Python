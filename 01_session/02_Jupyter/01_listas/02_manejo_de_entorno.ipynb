{
 "cells": [
  {
   "cell_type": "code",
   "execution_count": 10,
   "id": "52f48b92-bb87-4673-83b6-eb494cca7154",
   "metadata": {},
   "outputs": [
    {
     "name": "stdout",
     "output_type": "stream",
     "text": [
      "[]\n"
     ]
    }
   ],
   "source": [
    "list = []\n",
    "print(list)"
   ]
  },
  {
   "cell_type": "code",
   "execution_count": 13,
   "id": "85187b3f-992e-4202-a119-3eb49500de14",
   "metadata": {},
   "outputs": [
    {
     "name": "stdout",
     "output_type": "stream",
     "text": [
      "['php', 'python', 'java', 'javascript']\n"
     ]
    }
   ],
   "source": [
    "list = [\"php\", \"python\", \"java\", \"javascript\", \"r\", \"c#\", \"c++\", \"kotlin\"]\n",
    "print(list)"
   ]
  },
  {
   "cell_type": "code",
   "execution_count": 15,
   "id": "4c4d6bbd-1516-4667-9593-115be73d4897",
   "metadata": {},
   "outputs": [
    {
     "name": "stdout",
     "output_type": "stream",
     "text": [
      "java\n"
     ]
    }
   ],
   "source": [
    "print(list[2])"
   ]
  },
  {
   "cell_type": "code",
   "execution_count": 17,
   "id": "19c0b2f9-98d1-443b-83b3-4c3985e823c2",
   "metadata": {},
   "outputs": [
    {
     "name": "stdout",
     "output_type": "stream",
     "text": [
      "['php', 'python']\n"
     ]
    }
   ],
   "source": [
    "print(list[0:2])"
   ]
  },
  {
   "cell_type": "code",
   "execution_count": 18,
   "id": "1b34c35d-93dd-40dd-b97b-5aa18be14df3",
   "metadata": {},
   "outputs": [
    {
     "name": "stdout",
     "output_type": "stream",
     "text": [
      "['php', 'python', 'java']\n"
     ]
    }
   ],
   "source": [
    "print(list[0:3])"
   ]
  },
  {
   "cell_type": "code",
   "execution_count": 19,
   "id": "95ab7e0d-75af-4b11-9e3a-25cb4735c8cb",
   "metadata": {},
   "outputs": [
    {
     "name": "stdout",
     "output_type": "stream",
     "text": [
      "['php', 'python', 'java']\n"
     ]
    }
   ],
   "source": [
    "print(list[:3])"
   ]
  },
  {
   "cell_type": "code",
   "execution_count": 20,
   "id": "5ef9754c-9afa-4af9-a1b7-20a77890b4f1",
   "metadata": {},
   "outputs": [
    {
     "name": "stdout",
     "output_type": "stream",
     "text": [
      "['python', 'java']\n"
     ]
    }
   ],
   "source": [
    "print(list[1:3])"
   ]
  },
  {
   "cell_type": "code",
   "execution_count": 23,
   "id": "7ff51ba4-7cb3-4f27-832b-364e7a8c922f",
   "metadata": {},
   "outputs": [
    {
     "name": "stdout",
     "output_type": "stream",
     "text": [
      "['php', 'python', 'java', 'javascript']\n"
     ]
    }
   ],
   "source": [
    "print(list)"
   ]
  }
 ],
 "metadata": {
  "kernelspec": {
   "display_name": "Python 3 (ipykernel)",
   "language": "python",
   "name": "python3"
  },
  "language_info": {
   "codemirror_mode": {
    "name": "ipython",
    "version": 3
   },
   "file_extension": ".py",
   "mimetype": "text/x-python",
   "name": "python",
   "nbconvert_exporter": "python",
   "pygments_lexer": "ipython3",
   "version": "3.11.9"
  }
 },
 "nbformat": 4,
 "nbformat_minor": 5
}
